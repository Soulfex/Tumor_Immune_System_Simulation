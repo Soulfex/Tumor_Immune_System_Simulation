{
 "cells": [
  {
   "cell_type": "markdown",
   "id": "258531e9-c426-4b24-aa41-4619d0dd2ebe",
   "metadata": {},
   "source": [
    "### Autoimmune disease investigation"
   ]
  },
  {
   "cell_type": "markdown",
   "id": "ca2d951a-95ad-4c35-b1f7-c1699ddfe18c",
   "metadata": {},
   "source": [
    "The question that we will try to answer in this notebook is how the strength of an autoimmune disease relates to the mean. number of proliferating cells observed in tumor growth.\n",
    "\n",
    "i have tweaked with the Immune System model, so that i can vary the antigen affinity."
   ]
  },
  {
   "cell_type": "code",
   "execution_count": 1,
   "id": "efb247c4-d7c1-4d2d-973e-6643adf28c58",
   "metadata": {},
   "outputs": [
    {
     "name": "stdout",
     "output_type": "stream",
     "text": [
      "/Users/walup/Library/CloudStorage/GoogleDrive-walup.legaria@gmail.com/My Drive/Cancer_Immune_Project_Final_Version/Tumor_Immune_System_Simulation/Tests\n"
     ]
    }
   ],
   "source": [
    "from sys import path\n",
    "from os import getcwd\n",
    "print(getcwd())\n",
    "path.append(\"/Users/walup/Library/CloudStorage/GoogleDrive-walup.legaria@gmail.com/My Drive/Cancer_Immune_Project_Final_Version/Tumor_Immune_System_Simulation/Model\")\n",
    "\n",
    "from TumorModel import CellType\n",
    "from TumorModel import Cell\n",
    "from TumorModel import Tissue\n",
    "import numpy as np\n",
    "import matplotlib.pyplot as plt\n",
    "\n",
    "from IPython.display import clear_output"
   ]
  },
  {
   "cell_type": "markdown",
   "id": "1bc2a0c5-0dbc-4215-a548-5df4177138bd",
   "metadata": {},
   "source": [
    "### Non-malignant case"
   ]
  },
  {
   "cell_type": "code",
   "execution_count": 2,
   "id": "7608eff3-8ede-4526-becc-d55fb10e1424",
   "metadata": {},
   "outputs": [
    {
     "name": "stdout",
     "output_type": "stream",
     "text": [
      "90.0\n",
      "[986.0, 930.0, 966.0, 939.0, 924.0, 50.0, 78.0, 987.0, 58.0]\n"
     ]
    },
    {
     "name": "stderr",
     "output_type": "stream",
     "text": [
      "100%|█████████████████████████████████████████| 300/300 [01:19<00:00,  3.76it/s]\n"
     ]
    }
   ],
   "source": [
    "\n",
    "affinityValues = list(np.linspace(0.8,1,10))\n",
    "maxNCellsArray = []\n",
    "automatonWidth = 100\n",
    "automatonHeight = 100\n",
    "rAntibody = 0.9\n",
    "\n",
    "nSteps = 300\n",
    "thresh = 200\n",
    "\n",
    "for i in range(0, len(affinityValues)):\n",
    "    print(i/len(affinityValues)*100)\n",
    "    print(maxNCellsArray)\n",
    "    #Initialize the automaton\n",
    "    tissue = Tissue(automatonWidth, automatonHeight)\n",
    "    \n",
    "    centerX = int(automatonWidth/2)\n",
    "    centerY = int(automatonHeight/2)\n",
    "    \n",
    "    tissue.addProliferatingCell(centerX, centerY)\n",
    "    tissue.addProliferatingCell(centerX + 1, centerY)\n",
    "    tissue.addProliferatingCell(centerX - 1, centerY)\n",
    "    tissue.addProliferatingCell(centerX, centerY+1)\n",
    "    tissue.addProliferatingCell(centerX, centerY-1)\n",
    "    \n",
    "    affinity = affinityValues[i]\n",
    "    \n",
    "    tissue.immuneSystem.activateImmuneDiseaseWithValues(affinity,rAntibody)\n",
    "    tissue.evolve(nSteps, False, False, False)    \n",
    "    maxCells = np.max(tissue.cellCountSeries[:,0])\n",
    "    maxNCellsArray.append(maxCells)\n",
    "    \n",
    "    clear_output(wait = True)  \n",
    "\n",
    "\n",
    "toDelete = []\n",
    "toDeleteAffs = []\n",
    "\n",
    "for i in range(1,len(maxNCellsArray)-1):\n",
    "    if(np.abs(maxNCellsArray[i] - maxNCellsArray[i-1])>thresh and np.abs(maxNCellsArray[i] - maxNCellsArray[i+1])>thresh):\n",
    "        toDelete.append(maxNCellsArray[i])\n",
    "        toDeleteAffs.append(affinityValues[i])\n",
    "\n",
    "for i in range(0,len(toDelete)):\n",
    "    maxNCellsArray.remove(toDelete[i])\n",
    "    affinityValues.remove(toDeleteAffs[i])\n",
    "\n",
    "    \n",
    "\n",
    "\n"
   ]
  },
  {
   "cell_type": "code",
   "execution_count": 3,
   "id": "759fff3d-90d2-4cd0-9a57-24ef167ff5a4",
   "metadata": {},
   "outputs": [
    {
     "data": {
      "text/plain": [
       "Text(0, 0.5, 'Max. proliferating cells')"
      ]
     },
     "execution_count": 3,
     "metadata": {},
     "output_type": "execute_result"
    },
    {
     "data": {
      "image/png": "[encoded data removed]",
      "text/plain": [
       "<Figure size 640x480 with 1 Axes>"
      ]
     },
     "metadata": {},
     "output_type": "display_data"
    }
   ],
   "source": [
    "plt.figure()\n",
    "plt.plot(affinityValues, maxNCellsArray)\n",
    "plt.xlabel(\"Antigen affinity\")\n",
    "plt.ylabel(\"Max. proliferating cells\")"
   ]
  },
  {
   "cell_type": "markdown",
   "id": "2027fa9c-7b54-45e3-b8b9-d632442b333b",
   "metadata": {},
   "source": [
    "### Malignant case"
   ]
  },
  {
   "cell_type": "code",
   "execution_count": 5,
   "id": "6dff57a1-1515-4b8c-99cf-430a02d3b126",
   "metadata": {},
   "outputs": [
    {
     "name": "stdout",
     "output_type": "stream",
     "text": [
      "90.0\n",
      "[963.0, 968.0, 981.0, 939.0, 958.0, 944.0, 949.0, 956.0, 917.0]\n"
     ]
    },
    {
     "name": "stderr",
     "output_type": "stream",
     "text": [
      "100%|█████████████████████████████████████████| 300/300 [01:33<00:00,  3.21it/s]\n"
     ]
    }
   ],
   "source": [
    "affinityValues = list(np.linspace(0.8,1,10))\n",
    "maxNCellsArray = []\n",
    "automatonWidth = 100\n",
    "automatonHeight = 100\n",
    "rAntibody = 0.9\n",
    "\n",
    "nSteps = 300\n",
    "\n",
    "for i in range(0, len(affinityValues)):\n",
    "    print(i/len(affinityValues)*100)\n",
    "    #Initialize the automaton\n",
    "    tissue = Tissue(automatonWidth, automatonHeight)\n",
    "    print(maxNCellsArray)\n",
    "    \n",
    "    centerX = int(automatonWidth/2)\n",
    "    centerY = int(automatonHeight/2)\n",
    "    \n",
    "    tissue.addProliferatingCell(centerX, centerY)\n",
    "    tissue.addProliferatingCell(centerX + 1, centerY)\n",
    "    tissue.addProliferatingCell(centerX - 1, centerY)\n",
    "    tissue.addProliferatingCell(centerX, centerY+1)\n",
    "    tissue.addProliferatingCell(centerX, centerY-1)\n",
    "    \n",
    "    affinity = affinityValues[i]\n",
    "    \n",
    "    tissue.immuneSystem.activateImmuneDiseaseWithValues(affinity,rAntibody)\n",
    "    tissue.makeTumorMalignant()\n",
    "    tissue.evolve(nSteps, False, False, False)    \n",
    "    maxCells = np.max(tissue.cellCountSeries[:,0])\n",
    "    maxNCellsArray.append(maxCells)\n",
    "    \n",
    "    clear_output(wait = True)\n",
    "\n",
    "toDelete = []\n",
    "toDeleteAffs = []\n",
    "\n",
    "for i in range(1,len(maxNCellsArray)-1):\n",
    "    if(np.abs(maxNCellsArray[i] - maxNCellsArray[i-1])>thresh and np.abs(maxNCellsArray[i] - maxNCellsArray[i+1])>thresh):\n",
    "        toDelete.append(maxNCellsArray[i])\n",
    "        toDeleteAffs.append(affinityValues[i])\n",
    "\n",
    "for i in range(0,len(toDelete)):\n",
    "    maxNCellsArray.remove(toDelete[i])\n",
    "    affinityValues.remove(toDeleteAffs[i])"
   ]
  },
  {
   "cell_type": "code",
   "execution_count": null,
   "id": "8223650a-3c88-43b2-9651-9f961c8034ad",
   "metadata": {},
   "outputs": [],
   "source": [
    "plt.figure()\n",
    "plt.plot(affinityValues, maxNCellsArray)\n",
    "plt.xlabel(\"Antigen affinity\")\n",
    "plt.ylabel(\"Max. proliferating cells\")"
   ]
  },
  {
   "cell_type": "code",
   "execution_count": null,
   "id": "77e6a434-f17b-4147-85f9-08c4349a9fa5",
   "metadata": {},
   "outputs": [],
   "source": []
  }
 ],
 "metadata": {
  "kernelspec": {
   "display_name": "Python 3 (ipykernel)",
   "language": "python",
   "name": "python3"
  },
  "language_info": {
   "codemirror_mode": {
    "name": "ipython",
    "version": 3
   },
   "file_extension": ".py",
   "mimetype": "text/x-python",
   "name": "python",
   "nbconvert_exporter": "python",
   "pygments_lexer": "ipython3",
   "version": "3.9.13"
  }
 },
 "nbformat": 4,
 "nbformat_minor": 5
}
